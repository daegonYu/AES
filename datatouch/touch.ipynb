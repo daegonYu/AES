{
 "cells": [
  {
   "cell_type": "code",
   "execution_count": 2,
   "metadata": {},
   "outputs": [
    {
     "data": {
      "text/html": [
       "<div>\n",
       "<style scoped>\n",
       "    .dataframe tbody tr th:only-of-type {\n",
       "        vertical-align: middle;\n",
       "    }\n",
       "\n",
       "    .dataframe tbody tr th {\n",
       "        vertical-align: top;\n",
       "    }\n",
       "\n",
       "    .dataframe thead th {\n",
       "        text-align: right;\n",
       "    }\n",
       "</style>\n",
       "<table border=\"1\" class=\"dataframe\">\n",
       "  <thead>\n",
       "    <tr style=\"text-align: right;\">\n",
       "      <th></th>\n",
       "      <th>sentence</th>\n",
       "      <th>label</th>\n",
       "    </tr>\n",
       "  </thead>\n",
       "  <tbody>\n",
       "    <tr>\n",
       "      <td>0</td>\n",
       "      <td>Many people have different views and opinions ...</td>\n",
       "      <td>4</td>\n",
       "    </tr>\n",
       "    <tr>\n",
       "      <td>1</td>\n",
       "      <td>What happened to everyone having the right to ...</td>\n",
       "      <td>4</td>\n",
       "    </tr>\n",
       "    <tr>\n",
       "      <td>2</td>\n",
       "      <td>I do not think that libraries or any one shoul...</td>\n",
       "      <td>3</td>\n",
       "    </tr>\n",
       "    <tr>\n",
       "      <td>3</td>\n",
       "      <td>To @CAPS1 it @MONTH1 @CAPS2:     @CAPS3 I walk...</td>\n",
       "      <td>3</td>\n",
       "    </tr>\n",
       "    <tr>\n",
       "      <td>4</td>\n",
       "      <td>Libraries have books, magizines, movies, ect.T...</td>\n",
       "      <td>3</td>\n",
       "    </tr>\n",
       "    <tr>\n",
       "      <td>...</td>\n",
       "      <td>...</td>\n",
       "      <td>...</td>\n",
       "    </tr>\n",
       "    <tr>\n",
       "      <td>715</td>\n",
       "      <td>Censorship is a growing problem is today's wor...</td>\n",
       "      <td>4</td>\n",
       "    </tr>\n",
       "    <tr>\n",
       "      <td>716</td>\n",
       "      <td>A @CAPS1 is a place for people of all ages to ...</td>\n",
       "      <td>4</td>\n",
       "    </tr>\n",
       "    <tr>\n",
       "      <td>717</td>\n",
       "      <td>Censorship in the world is getting worse every...</td>\n",
       "      <td>4</td>\n",
       "    </tr>\n",
       "    <tr>\n",
       "      <td>718</td>\n",
       "      <td>Maybe, to a sense I do not think that boo'ks s...</td>\n",
       "      <td>4</td>\n",
       "    </tr>\n",
       "    <tr>\n",
       "      <td>719</td>\n",
       "      <td>Some books in libraries offended some people. ...</td>\n",
       "      <td>2</td>\n",
       "    </tr>\n",
       "  </tbody>\n",
       "</table>\n",
       "<p>720 rows × 2 columns</p>\n",
       "</div>"
      ],
      "text/plain": [
       "                                              sentence  label\n",
       "0    Many people have different views and opinions ...      4\n",
       "1    What happened to everyone having the right to ...      4\n",
       "2    I do not think that libraries or any one shoul...      3\n",
       "3    To @CAPS1 it @MONTH1 @CAPS2:     @CAPS3 I walk...      3\n",
       "4    Libraries have books, magizines, movies, ect.T...      3\n",
       "..                                                 ...    ...\n",
       "715  Censorship is a growing problem is today's wor...      4\n",
       "716  A @CAPS1 is a place for people of all ages to ...      4\n",
       "717  Censorship in the world is getting worse every...      4\n",
       "718  Maybe, to a sense I do not think that boo'ks s...      4\n",
       "719  Some books in libraries offended some people. ...      2\n",
       "\n",
       "[720 rows x 2 columns]"
      ]
     },
     "execution_count": 2,
     "metadata": {},
     "output_type": "execute_result"
    }
   ],
   "source": [
    "import pandas as pd\n",
    "\n",
    "d = pd.read_csv('/home/daegon/Multi-Scale-BERT-AES/asap/2_test.csv', index_col=0)\n",
    "d"
   ]
  },
  {
   "cell_type": "code",
   "execution_count": 3,
   "metadata": {},
   "outputs": [],
   "source": [
    "# astype : dtype 변경하기\n",
    "d['label'] = d['label'].astype('float')"
   ]
  },
  {
   "cell_type": "code",
   "execution_count": 4,
   "metadata": {},
   "outputs": [],
   "source": [
    "d.to_csv('ex.txt', sep='\\t')"
   ]
  },
  {
   "cell_type": "code",
   "execution_count": 3,
   "metadata": {},
   "outputs": [],
   "source": [
    "import pandas as pd\n",
    "essays = pd.read_csv('./korproject/AIHUB_대안제시_주장.csv', index_col=0)"
   ]
  },
  {
   "cell_type": "code",
   "execution_count": 4,
   "metadata": {},
   "outputs": [
    {
     "data": {
      "text/html": [
       "<div>\n",
       "<style scoped>\n",
       "    .dataframe tbody tr th:only-of-type {\n",
       "        vertical-align: middle;\n",
       "    }\n",
       "\n",
       "    .dataframe tbody tr th {\n",
       "        vertical-align: top;\n",
       "    }\n",
       "\n",
       "    .dataframe thead th {\n",
       "        text-align: right;\n",
       "    }\n",
       "</style>\n",
       "<table border=\"1\" class=\"dataframe\">\n",
       "  <thead>\n",
       "    <tr style=\"text-align: right;\">\n",
       "      <th></th>\n",
       "      <th>essay_txt</th>\n",
       "    </tr>\n",
       "  </thead>\n",
       "  <tbody>\n",
       "    <tr>\n",
       "      <th>0</th>\n",
       "      <td>혐오시설을 설치하는것은 당연하게도 반발을 얻을 수 밖에 없다. #@문장구분#그이유로...</td>\n",
       "    </tr>\n",
       "    <tr>\n",
       "      <th>1</th>\n",
       "      <td>동물장묘시설을 건설함으로써 발생하는 여러 가지 문제들을 해결하기 위한 대안이 몇 가...</td>\n",
       "    </tr>\n",
       "    <tr>\n",
       "      <th>2</th>\n",
       "      <td>하수처리장을 설치하면 좋지않은 외관과 약취의 문제는 피할 수 없다.#@문장구분# 그...</td>\n",
       "    </tr>\n",
       "    <tr>\n",
       "      <th>3</th>\n",
       "      <td>만약, 당신의 집 옆에 쓰레기 매립지를 만든다고 하면 당신은 어떤 반응을 보일까요?...</td>\n",
       "    </tr>\n",
       "    <tr>\n",
       "      <th>4</th>\n",
       "      <td>이번 여름 전주의 한 마을에서 폐기물 매립지가 악취와 주변 지역의 쾌적성이 훼손된다...</td>\n",
       "    </tr>\n",
       "    <tr>\n",
       "      <th>...</th>\n",
       "      <td>...</td>\n",
       "    </tr>\n",
       "    <tr>\n",
       "      <th>13750</th>\n",
       "      <td>요즘 여러가지의 학교폭력이 자주 일어나고 있습니다.#@문장구분# 그로인해 여러가지 ...</td>\n",
       "    </tr>\n",
       "    <tr>\n",
       "      <th>13751</th>\n",
       "      <td>요즘 많은 아이들이 학교폭력을 겪고있습니다.#@문장구분# 학교폭력에는 많은 종류가 ...</td>\n",
       "    </tr>\n",
       "    <tr>\n",
       "      <th>13752</th>\n",
       "      <td>학교 폭력을 줄이기 위해 우리 같은 학생들이 할 수 있는 일은 생각보다 많습니다.#...</td>\n",
       "    </tr>\n",
       "    <tr>\n",
       "      <th>13753</th>\n",
       "      <td>요즈음 학교에서 학교폭력, 사이버 폭력을 당하는 학생이 늘어 사회적 문제가 되고 있...</td>\n",
       "    </tr>\n",
       "    <tr>\n",
       "      <th>13754</th>\n",
       "      <td>학교폭력, 어떻게 줄일까?#@문장구분#\\n요즘, 학교에서 폭력이 점점늘어나고있다.#...</td>\n",
       "    </tr>\n",
       "  </tbody>\n",
       "</table>\n",
       "<p>13755 rows × 1 columns</p>\n",
       "</div>"
      ],
      "text/plain": [
       "                                               essay_txt\n",
       "0      혐오시설을 설치하는것은 당연하게도 반발을 얻을 수 밖에 없다. #@문장구분#그이유로...\n",
       "1      동물장묘시설을 건설함으로써 발생하는 여러 가지 문제들을 해결하기 위한 대안이 몇 가...\n",
       "2      하수처리장을 설치하면 좋지않은 외관과 약취의 문제는 피할 수 없다.#@문장구분# 그...\n",
       "3      만약, 당신의 집 옆에 쓰레기 매립지를 만든다고 하면 당신은 어떤 반응을 보일까요?...\n",
       "4      이번 여름 전주의 한 마을에서 폐기물 매립지가 악취와 주변 지역의 쾌적성이 훼손된다...\n",
       "...                                                  ...\n",
       "13750  요즘 여러가지의 학교폭력이 자주 일어나고 있습니다.#@문장구분# 그로인해 여러가지 ...\n",
       "13751  요즘 많은 아이들이 학교폭력을 겪고있습니다.#@문장구분# 학교폭력에는 많은 종류가 ...\n",
       "13752  학교 폭력을 줄이기 위해 우리 같은 학생들이 할 수 있는 일은 생각보다 많습니다.#...\n",
       "13753  요즈음 학교에서 학교폭력, 사이버 폭력을 당하는 학생이 늘어 사회적 문제가 되고 있...\n",
       "13754  학교폭력, 어떻게 줄일까?#@문장구분#\\n요즘, 학교에서 폭력이 점점늘어나고있다.#...\n",
       "\n",
       "[13755 rows x 1 columns]"
      ]
     },
     "execution_count": 4,
     "metadata": {},
     "output_type": "execute_result"
    }
   ],
   "source": [
    "essays"
   ]
  },
  {
   "cell_type": "code",
   "execution_count": 7,
   "metadata": {},
   "outputs": [
    {
     "data": {
      "text/plain": [
       "array([1, 2])"
      ]
     },
     "execution_count": 7,
     "metadata": {},
     "output_type": "execute_result"
    }
   ],
   "source": [
    "import numpy as np\n",
    "\n",
    "a = np.array([1])\n",
    "b = 2\n",
    "np.append(a,b)"
   ]
  },
  {
   "cell_type": "code",
   "execution_count": 10,
   "metadata": {},
   "outputs": [
    {
     "data": {
      "text/plain": [
       "(36.15575499818248, 41.778463831334065, 46.41208724100327)"
      ]
     },
     "execution_count": 10,
     "metadata": {},
     "output_type": "execute_result"
    }
   ],
   "source": [
    "logical_point = np.load('../loss_eval/aihub_point/logical.npy')\n",
    "novelty_point = np.load('../loss_eval/aihub_point/novelty.npy')\n",
    "persuasive_point = np.load('../loss_eval/aihub_point/persuasive.npy')\n",
    "logical_point.mean(),novelty_point.mean(),persuasive_point.mean()"
   ]
  },
  {
   "cell_type": "code",
   "execution_count": null,
   "metadata": {},
   "outputs": [],
   "source": []
  }
 ],
 "metadata": {
  "kernelspec": {
   "display_name": "base",
   "language": "python",
   "name": "python3"
  },
  "language_info": {
   "codemirror_mode": {
    "name": "ipython",
    "version": 3
   },
   "file_extension": ".py",
   "mimetype": "text/x-python",
   "name": "python",
   "nbconvert_exporter": "python",
   "pygments_lexer": "ipython3",
   "version": "3.8.8"
  },
  "orig_nbformat": 4,
  "vscode": {
   "interpreter": {
    "hash": "99fd66ae4cad5bb81cb48349b8584613497156a55678f3416493d54258ccfcc6"
   }
  }
 },
 "nbformat": 4,
 "nbformat_minor": 2
}
