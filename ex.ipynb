{
 "cells": [
  {
   "cell_type": "code",
   "execution_count": 11,
   "metadata": {},
   "outputs": [],
   "source": [
    "import gc\n",
    "import torch\n",
    "\n",
    "gc.collect()\n",
    "torch.cuda.empty_cache()"
   ]
  },
  {
   "cell_type": "code",
   "execution_count": 4,
   "metadata": {},
   "outputs": [
    {
     "name": "stderr",
     "output_type": "stream",
     "text": [
      "/home/daegon/.conda/envs/aes/lib/python3.8/site-packages/tqdm/auto.py:22: TqdmWarning: IProgress not found. Please update jupyter and ipywidgets. See https://ipywidgets.readthedocs.io/en/stable/user_install.html\n",
      "  from .autonotebook import tqdm as notebook_tqdm\n"
     ]
    },
    {
     "data": {
      "text/plain": [
       "'|===========================================================================|\\n|                  PyTorch CUDA memory summary, device ID 0                 |\\n|---------------------------------------------------------------------------|\\n|            CUDA OOMs: 0            |        cudaMalloc retries: 0         |\\n|===========================================================================|\\n|        Metric         | Cur Usage  | Peak Usage | Tot Alloc  | Tot Freed  |\\n|---------------------------------------------------------------------------|\\n| Allocated memory      |       0 B  |       0 B  |       0 B  |       0 B  |\\n|       from large pool |       0 B  |       0 B  |       0 B  |       0 B  |\\n|       from small pool |       0 B  |       0 B  |       0 B  |       0 B  |\\n|---------------------------------------------------------------------------|\\n| Active memory         |       0 B  |       0 B  |       0 B  |       0 B  |\\n|       from large pool |       0 B  |       0 B  |       0 B  |       0 B  |\\n|       from small pool |       0 B  |       0 B  |       0 B  |       0 B  |\\n|---------------------------------------------------------------------------|\\n| GPU reserved memory   |       0 B  |       0 B  |       0 B  |       0 B  |\\n|       from large pool |       0 B  |       0 B  |       0 B  |       0 B  |\\n|       from small pool |       0 B  |       0 B  |       0 B  |       0 B  |\\n|---------------------------------------------------------------------------|\\n| Non-releasable memory |       0 B  |       0 B  |       0 B  |       0 B  |\\n|       from large pool |       0 B  |       0 B  |       0 B  |       0 B  |\\n|       from small pool |       0 B  |       0 B  |       0 B  |       0 B  |\\n|---------------------------------------------------------------------------|\\n| Allocations           |       0    |       0    |       0    |       0    |\\n|       from large pool |       0    |       0    |       0    |       0    |\\n|       from small pool |       0    |       0    |       0    |       0    |\\n|---------------------------------------------------------------------------|\\n| Active allocs         |       0    |       0    |       0    |       0    |\\n|       from large pool |       0    |       0    |       0    |       0    |\\n|       from small pool |       0    |       0    |       0    |       0    |\\n|---------------------------------------------------------------------------|\\n| GPU reserved segments |       0    |       0    |       0    |       0    |\\n|       from large pool |       0    |       0    |       0    |       0    |\\n|       from small pool |       0    |       0    |       0    |       0    |\\n|---------------------------------------------------------------------------|\\n| Non-releasable allocs |       0    |       0    |       0    |       0    |\\n|       from large pool |       0    |       0    |       0    |       0    |\\n|       from small pool |       0    |       0    |       0    |       0    |\\n|===========================================================================|\\n'"
      ]
     },
     "execution_count": 4,
     "metadata": {},
     "output_type": "execute_result"
    }
   ],
   "source": [
    "import torch\n",
    "torch.cuda.memory_summary(device=None, abbreviated=False)"
   ]
  },
  {
   "cell_type": "code",
   "execution_count": 5,
   "metadata": {},
   "outputs": [
    {
     "name": "stdout",
     "output_type": "stream",
     "text": [
      "True\n"
     ]
    }
   ],
   "source": [
    "import torch\n",
    "\n",
    "# GPU 사용 가능 -> True, GPU 사용 불가 -> False\n",
    "print(torch.cuda.is_available())"
   ]
  },
  {
   "cell_type": "code",
   "execution_count": 6,
   "metadata": {},
   "outputs": [
    {
     "name": "stdout",
     "output_type": "stream",
     "text": [
      "1\n"
     ]
    }
   ],
   "source": [
    "print(torch.cuda.device_count()) # 3"
   ]
  },
  {
   "cell_type": "code",
   "execution_count": 7,
   "metadata": {},
   "outputs": [
    {
     "data": {
      "text/plain": [
       "0.01651537438501358"
      ]
     },
     "execution_count": 7,
     "metadata": {},
     "output_type": "execute_result"
    }
   ],
   "source": [
    "0.95 ** 80"
   ]
  },
  {
   "cell_type": "code",
   "execution_count": 2,
   "metadata": {},
   "outputs": [
    {
     "data": {
      "text/plain": [
       "tensor(6)"
      ]
     },
     "execution_count": 2,
     "metadata": {},
     "output_type": "execute_result"
    }
   ],
   "source": [
    "import torch\n",
    "torch.tensor([1,2,3]).sum()"
   ]
  },
  {
   "cell_type": "code",
   "execution_count": 4,
   "metadata": {},
   "outputs": [
    {
     "data": {
      "text/plain": [
       "tensor([1, 4, 9])"
      ]
     },
     "execution_count": 4,
     "metadata": {},
     "output_type": "execute_result"
    }
   ],
   "source": [
    "torch.tensor([1,2,3]) * torch.tensor([1,2,3])"
   ]
  },
  {
   "cell_type": "code",
   "execution_count": 5,
   "metadata": {},
   "outputs": [
    {
     "data": {
      "text/plain": [
       "tensor(2)"
      ]
     },
     "execution_count": 5,
     "metadata": {},
     "output_type": "execute_result"
    }
   ],
   "source": [
    "torch.max(torch.tensor(1),torch.tensor(2))"
   ]
  },
  {
   "cell_type": "code",
   "execution_count": 3,
   "metadata": {},
   "outputs": [
    {
     "name": "stdout",
     "output_type": "stream",
     "text": [
      "(109497428,)\n"
     ]
    }
   ],
   "source": [
    "import numpy as np\n",
    "\n",
    "with open('/home/daegon/Multi-Scale-BERT-AES/data/p8_3/word_document/pytorch_model.bin') as f:\n",
    "    rectype = np.dtype(np.int32)\n",
    "    bdata = np.fromfile(f, dtype=rectype)\n",
    "\n",
    "print(bdata.shape)\n",
    "\n",
    "# pytorch_model.bin 파일에는 학습된 파라미터들이 저장되어 있구나. 1억개"
   ]
  },
  {
   "cell_type": "code",
   "execution_count": 3,
   "metadata": {},
   "outputs": [],
   "source": [
    "from transformers import BertModel\n",
    "\n",
    "model = BertModel.from_pretrained('bert-base-uncased')"
   ]
  },
  {
   "cell_type": "code",
   "execution_count": 19,
   "metadata": {},
   "outputs": [
    {
     "name": "stdout",
     "output_type": "stream",
     "text": [
      "tensor(6.)\n"
     ]
    },
    {
     "data": {
      "text/plain": [
       "tensor(6.)"
      ]
     },
     "execution_count": 19,
     "metadata": {},
     "output_type": "execute_result"
    }
   ],
   "source": [
    "# MR loss 구현\n",
    "\n",
    "import torch\n",
    "\n",
    "pred = torch.tensor([3,6,1,2], dtype=torch.float)\n",
    "label = torch.tensor([8,5,9,8], dtype=torch.float)\n",
    "# print(pred.size(0))\n",
    "mr_loss = 0\n",
    "for i in range(1):\n",
    "    y = pred - pred[i]\n",
    "    yhat = label - label[i]\n",
    "    yhat = yhat.sign()\n",
    "    mask = y.sign() != yhat.sign()\n",
    "\n",
    "    mr_loss += y[mask].abs().sum()\n",
    "    print(y[mask].abs().sum())\n",
    "mr_loss\n",
    "    \n",
    "    "
   ]
  },
  {
   "cell_type": "code",
   "execution_count": 11,
   "metadata": {},
   "outputs": [
    {
     "data": {
      "text/plain": [
       "range(0, 6)"
      ]
     },
     "execution_count": 11,
     "metadata": {},
     "output_type": "execute_result"
    }
   ],
   "source": [
    "range(6)"
   ]
  },
  {
   "cell_type": "code",
   "execution_count": 13,
   "metadata": {},
   "outputs": [
    {
     "data": {
      "image/png": "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",
      "text/plain": [
       "<Figure size 640x480 with 1 Axes>"
      ]
     },
     "metadata": {},
     "output_type": "display_data"
    }
   ],
   "source": [
    "import numpy as np\n",
    "from matplotlib import pyplot as plt\n",
    "\n",
    "losses = np.load('/home/daegon/Multi-Scale-BERT-AES/loss_eval/loss_f1.npy')\n",
    "# print(range(losses.shape[0]))\n",
    "plt.plot(range(losses.shape[0]), losses)\n",
    "plt.show()"
   ]
  },
  {
   "cell_type": "code",
   "execution_count": 6,
   "metadata": {},
   "outputs": [
    {
     "data": {
      "text/plain": [
       "tensor([-1, -1,  0,  1,  1,  1,  1])"
      ]
     },
     "execution_count": 6,
     "metadata": {},
     "output_type": "execute_result"
    }
   ],
   "source": [
    "import torch\n",
    "torch.tensor([-2,-1,0,1,2,3,100]).sign()"
   ]
  }
 ],
 "metadata": {
  "kernelspec": {
   "display_name": "aes",
   "language": "python",
   "name": "python3"
  },
  "language_info": {
   "codemirror_mode": {
    "name": "ipython",
    "version": 3
   },
   "file_extension": ".py",
   "mimetype": "text/x-python",
   "name": "python",
   "nbconvert_exporter": "python",
   "pygments_lexer": "ipython3",
<<<<<<< HEAD
   "version": "3.7.15 (default, Nov 24 2022, 21:12:53) \n[GCC 11.2.0]"
=======
   "version": "3.8.16"
>>>>>>> 6138e0e915d93215e0586223301e573cee8c314f
  },
  "orig_nbformat": 4,
  "vscode": {
   "interpreter": {
    "hash": "81a5fd01023762b08af10b990f3d4491543965e972087ed3468cbffcde8da79f"
   }
  }
 },
 "nbformat": 4,
 "nbformat_minor": 2
}
