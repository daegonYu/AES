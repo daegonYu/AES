{
 "cells": [
  {
   "cell_type": "code",
   "execution_count": 2,
   "metadata": {},
   "outputs": [
    {
     "data": {
      "text/plain": [
       "tensor(6)"
      ]
     },
     "execution_count": 2,
     "metadata": {},
     "output_type": "execute_result"
    }
   ],
   "source": [
    "import torch\n",
    "torch.tensor([1,2,3]).sum()"
   ]
  },
  {
   "cell_type": "code",
   "execution_count": 4,
   "metadata": {},
   "outputs": [
    {
     "data": {
      "text/plain": [
       "tensor([1, 4, 9])"
      ]
     },
     "execution_count": 4,
     "metadata": {},
     "output_type": "execute_result"
    }
   ],
   "source": [
    "torch.tensor([1,2,3]) * torch.tensor([1,2,3])"
   ]
  },
  {
   "cell_type": "code",
   "execution_count": 5,
   "metadata": {},
   "outputs": [
    {
     "data": {
      "text/plain": [
       "tensor(2)"
      ]
     },
     "execution_count": 5,
     "metadata": {},
     "output_type": "execute_result"
    }
   ],
   "source": [
    "torch.max(torch.tensor(1),torch.tensor(2))"
   ]
  },
  {
   "cell_type": "code",
   "execution_count": 3,
   "metadata": {},
   "outputs": [
    {
     "name": "stdout",
     "output_type": "stream",
     "text": [
      "(109497428,)\n"
     ]
    }
   ],
   "source": [
    "import numpy as np\n",
    "\n",
    "with open('/home/daegon/Multi-Scale-BERT-AES/data/p8_3/word_document/pytorch_model.bin') as f:\n",
    "    rectype = np.dtype(np.int32)\n",
    "    bdata = np.fromfile(f, dtype=rectype)\n",
    "\n",
    "print(bdata.shape)\n",
    "\n",
    "# pytorch_model.bin 파일에는 학습된 파라미터들이 저장되어 있구나. 1억개"
   ]
  },
  {
   "cell_type": "code",
   "execution_count": 3,
   "metadata": {},
   "outputs": [],
   "source": [
    "from transformers import BertModel\n",
    "\n",
    "model = BertModel.from_pretrained('bert-base-uncased')"
   ]
  },
  {
   "cell_type": "code",
   "execution_count": 19,
   "metadata": {},
   "outputs": [
    {
     "name": "stdout",
     "output_type": "stream",
     "text": [
      "tensor(6.)\n"
     ]
    },
    {
     "data": {
      "text/plain": [
       "tensor(6.)"
      ]
     },
     "execution_count": 19,
     "metadata": {},
     "output_type": "execute_result"
    }
   ],
   "source": [
    "# MR loss 구현\n",
    "\n",
    "import torch\n",
    "\n",
    "pred = torch.tensor([3,6,1,2], dtype=torch.float)\n",
    "label = torch.tensor([8,5,9,8], dtype=torch.float)\n",
    "# print(pred.size(0))\n",
    "mr_loss = 0\n",
    "for i in range(1):\n",
    "    y = pred - pred[i]\n",
    "    yhat = label - label[i]\n",
    "    yhat = yhat.sign()\n",
    "    mask = y.sign() != yhat.sign()\n",
    "\n",
    "    mr_loss += y[mask].abs().sum()\n",
    "    print(y[mask].abs().sum())\n",
    "mr_loss\n",
    "    \n",
    "    "
   ]
  },
  {
   "cell_type": "code",
   "execution_count": 6,
   "metadata": {},
   "outputs": [
    {
     "data": {
      "text/plain": [
       "tensor([-1, -1,  0,  1,  1,  1,  1])"
      ]
     },
     "execution_count": 6,
     "metadata": {},
     "output_type": "execute_result"
    }
   ],
   "source": [
    "import torch\n",
    "torch.tensor([-2,-1,0,1,2,3,100]).sign()"
   ]
  }
 ],
 "metadata": {
  "kernelspec": {
   "display_name": "AES_ex",
   "language": "python",
   "name": "python3"
  },
  "language_info": {
   "codemirror_mode": {
    "name": "ipython",
    "version": 3
   },
   "file_extension": ".py",
   "mimetype": "text/x-python",
   "name": "python",
   "nbconvert_exporter": "python",
   "pygments_lexer": "ipython3",
   "version": "3.7.15"
  },
  "orig_nbformat": 4,
  "vscode": {
   "interpreter": {
    "hash": "badfcb268ea3dcbd9183874927f5b94812a9213b87e66c05c4fb570bbcdffbbf"
   }
  }
 },
 "nbformat": 4,
 "nbformat_minor": 2
}
